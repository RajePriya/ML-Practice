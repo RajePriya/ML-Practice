{
 "cells": [
  {
   "cell_type": "markdown",
   "id": "349d270f",
   "metadata": {},
   "source": [
    "# Percentile & Quartile"
   ]
  },
  {
   "cell_type": "code",
   "execution_count": null,
   "id": "c9d23a20",
   "metadata": {},
   "outputs": [],
   "source": [
    "Quartiles and percentiles are a measures of variation, which describes how spread out the data is.\n",
    "\n",
    "Quartiles and percentiles are both types of quantiles."
   ]
  },
  {
   "cell_type": "markdown",
   "id": "64490645",
   "metadata": {},
   "source": [
    "## Quartile"
   ]
  },
  {
   "cell_type": "code",
   "execution_count": null,
   "id": "35f542d3",
   "metadata": {},
   "outputs": [],
   "source": [
    "Quartiles are values that separate the data into four equal parts.\n",
    "\n",
    "Here is a histogram of the age of all 934 Nobel Prize winners up to the year 2020"
   ]
  },
  {
   "cell_type": "code",
   "execution_count": null,
   "id": "25efbb52",
   "metadata": {},
   "outputs": [],
   "source": [
    "The quartiles (Q0,Q1,Q2,Q3,Q4) are the values that separate each quarter.\n",
    "\n",
    "Between Q0 and Q1 are the 25% lowest values in the data. Between Q1 and Q2 are the next 25%. And so on.\n",
    "\n",
    "=> Q0 is the smallest value in the data.\n",
    "=> Q1 is the value separating the first quarter from the second quarter of the data.\n",
    "=> Q2 is the middle value (median), separating the bottom from the top half.\n",
    "=> Q3 is the value separating the third quarter from the fourth quarter\n",
    "=> Q4 is the largest value in the data.\n"
   ]
  },
  {
   "cell_type": "code",
   "execution_count": null,
   "id": "c30b4c52",
   "metadata": {},
   "outputs": [],
   "source": [
    "Calculating Quartiles with Programming\n",
    "Quartiles can easily be found with many programming languages.\n",
    "\n",
    "Using software and programming to calculate statistics is more common for bigger sets of data, as finding it manually\n",
    "becomes difficult."
   ]
  },
  {
   "cell_type": "code",
   "execution_count": null,
   "id": "024dcc31",
   "metadata": {},
   "outputs": [],
   "source": [
    "Example\n",
    "With Python use the NumPy library quantile() method to find the quartiles of the values 13, 21, 21, 40, 42, 48, 55, 72:"
   ]
  },
  {
   "cell_type": "code",
   "execution_count": 23,
   "id": "67bd0e98",
   "metadata": {},
   "outputs": [
    {
     "name": "stdout",
     "output_type": "stream",
     "text": [
      "[13.   21.   49.75 72.  ]\n"
     ]
    }
   ],
   "source": [
    "import numpy\n",
    "values = [13,21,21,40,42,48,55,72]\n",
    "\n",
    "x = numpy.quantile(values,[0,0.25,0.75,1])\n",
    "\n",
    "print(x)"
   ]
  },
  {
   "cell_type": "code",
   "execution_count": null,
   "id": "a61ed47d",
   "metadata": {},
   "outputs": [],
   "source": [
    "Example\n",
    "Use the R quantile() function to find the quantiles of the values 13, 21, 21, 40, 42, 48, 55, 72:"
   ]
  },
  {
   "cell_type": "markdown",
   "id": "db60b2f3",
   "metadata": {},
   "source": [
    "## Percentiles"
   ]
  },
  {
   "cell_type": "code",
   "execution_count": null,
   "id": "97f934ac",
   "metadata": {},
   "outputs": [],
   "source": [
    "Percentiles are values that separate the data into 100 equal parts.\n",
    "\n",
    "For example, The 95th percentile separates the lowest 95% of the values from the top 5%\n",
    "\n",
    "The 25th percentile (P25%) is the same as the first quartile (Q1).\n",
    "\n",
    "The 50th percentile (P50%) is the same as the second quartile (Q2) and the median.\n",
    "\n",
    "The 75th percentile (P75%) is the same as the third quartile (Q3)\n",
    "\n"
   ]
  },
  {
   "cell_type": "code",
   "execution_count": null,
   "id": "f312c4b1",
   "metadata": {},
   "outputs": [],
   "source": [
    "Calculating Percentiles with Programming\n",
    "Percentiles can easily be found with many programming languages.\n",
    "\n",
    "Using software and programming to calculate statistics is more common for bigger sets of data, as finding it manually\n",
    "becomes difficult"
   ]
  },
  {
   "cell_type": "code",
   "execution_count": null,
   "id": "65973c64",
   "metadata": {},
   "outputs": [],
   "source": [
    "Example\n",
    "With Python use the NumPy library percentile() method to find the 65th percentile of the values \n",
    "13, 21, 21, 40, 42, 48, 55, 72:"
   ]
  },
  {
   "cell_type": "code",
   "execution_count": 32,
   "id": "58bbd8a9",
   "metadata": {},
   "outputs": [
    {
     "name": "stdout",
     "output_type": "stream",
     "text": [
      "45.3\n"
     ]
    }
   ],
   "source": [
    "import numpy\n",
    "\n",
    "values = [13,21,21,40,42,48,55,72]\n",
    "\n",
    "x = numpy.percentile(values, 65)\n",
    "\n",
    "print(x)"
   ]
  },
  {
   "cell_type": "code",
   "execution_count": null,
   "id": "2c2c122c",
   "metadata": {},
   "outputs": [],
   "source": []
  },
  {
   "cell_type": "code",
   "execution_count": null,
   "id": "076fa75d",
   "metadata": {},
   "outputs": [],
   "source": []
  }
 ],
 "metadata": {
  "kernelspec": {
   "display_name": "Python 3 (ipykernel)",
   "language": "python",
   "name": "python3"
  },
  "language_info": {
   "codemirror_mode": {
    "name": "ipython",
    "version": 3
   },
   "file_extension": ".py",
   "mimetype": "text/x-python",
   "name": "python",
   "nbconvert_exporter": "python",
   "pygments_lexer": "ipython3",
   "version": "3.9.13"
  }
 },
 "nbformat": 4,
 "nbformat_minor": 5
}
