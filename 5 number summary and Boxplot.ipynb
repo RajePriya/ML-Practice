{
 "cells": [
  {
   "cell_type": "markdown",
   "id": "b5cb650c",
   "metadata": {},
   "source": [
    "## 5 Number Summary"
   ]
  },
  {
   "cell_type": "code",
   "execution_count": null,
   "id": "ca720776",
   "metadata": {},
   "outputs": [],
   "source": [
    "=> Minimum – It is the minimum value in the dataset excluding the outliers\n",
    "=> First Quartile (Q1) – 25% of the data lies below the First (lower) Quartile.\n",
    "=> Median (Q2) – It is the mid-point of the dataset. Half of the values lie below it and half above.\n",
    "=> Third Quartile (Q3) – 75% of the data lies below the Third (Upper) Quartile.\n",
    "=> Maximum – It is the maximum value in the dataset excluding the outliers."
   ]
  },
  {
   "cell_type": "code",
   "execution_count": null,
   "id": "0aeea72a",
   "metadata": {},
   "outputs": [],
   "source": [
    "\n",
    "                Lower Quartile          Median         Upper Quartile\n",
    "                        Q1                Q2                  Q3\n",
    "\n",
    "                        |-----------------|-------------------|\n",
    " Min                    |                 |                   |                    Max\n",
    "  |       25%           |                 |                   |        25%          |\n",
    "  |---------------------|     25%         |      25%          |---------------------|\n",
    "  |    Whisker          |                 |                   |        Whisker      |\n",
    "                        |                 |                   |\n",
    "                        |-----------------|-------------------|\n",
    "                                         BOX\n",
    "                \n",
    "                        <------------------------------------->\n",
    "                              Inter Quartile Ranger (IQR)\n",
    "            \n",
    "            "
   ]
  },
  {
   "cell_type": "code",
   "execution_count": null,
   "id": "949d7dcc",
   "metadata": {},
   "outputs": [],
   "source": [
    "Note: The box plot shown in the above diagram is a perfect plot with no skewness. The plots can have skewness and the median\n",
    "    might not be at the center of the box.\n",
    "\n",
    "The area inside the box (50% of the data) is known as the Inter Quartile Range. The IQR is calculated as –\n",
    "\n",
    "IQR = Q3-Q1"
   ]
  },
  {
   "cell_type": "code",
   "execution_count": null,
   "id": "2562fc40",
   "metadata": {},
   "outputs": [],
   "source": [
    "Outliers are the data points below and above the lower and upper limit. The lower and upper limit is calculated as – \n",
    "\n",
    "Lower Limit = Q1 - 1.5*IQR\n",
    "Upper Limit = Q3 + 1.5*IQR\n",
    "\n",
    "The values below and above these limits are considered outliers and the minimum and maximum values are calculated from the \n",
    "points which lie under the lower and upper limit."
   ]
  },
  {
   "cell_type": "markdown",
   "id": "bb20e57d",
   "metadata": {},
   "source": [
    "### 2) How to create a box plot"
   ]
  },
  {
   "cell_type": "code",
   "execution_count": null,
   "id": "1487a660",
   "metadata": {},
   "outputs": [],
   "source": [
    "Let us take a sample data to understand how to create a box plot.\n",
    "\n",
    "Here are the runs scored by a cricket team in a league of 12 matches – 100,120,110,150,110,140,130,170,120,220,140,110."
   ]
  },
  {
   "cell_type": "code",
   "execution_count": null,
   "id": "0d1dc708",
   "metadata": {},
   "outputs": [],
   "source": [
    "To draw a box plot for the given data first we need to arrange the data in ascending order and then find the minimum, first\n",
    "quartile, median, third quartile and the maximum."
   ]
  },
  {
   "cell_type": "code",
   "execution_count": null,
   "id": "dc381287",
   "metadata": {},
   "outputs": [],
   "source": [
    "Ascending Order - \n",
    "100,110,110,110,120,120,130,140,140,150,170,220\n",
    "\n",
    "Median (Q2) = (120+130)/2 = 125   ; Since there were even values"
   ]
  },
  {
   "cell_type": "code",
   "execution_count": null,
   "id": "4f536c32",
   "metadata": {},
   "outputs": [],
   "source": [
    "To find the First Quartile we take the first six values and find their median.\n",
    "\n",
    "Q1 = (110+110)/2 = 110"
   ]
  },
  {
   "cell_type": "code",
   "execution_count": null,
   "id": "fb66d03f",
   "metadata": {},
   "outputs": [],
   "source": [
    "For the Third Quartile, we take the next six and find their median.\n",
    "\n",
    "Q3 = (140+150)/2 = 145"
   ]
  },
  {
   "cell_type": "code",
   "execution_count": null,
   "id": "1c554f4e",
   "metadata": {},
   "outputs": [],
   "source": [
    "Note: If the total number of values is odd then we exclude the Median while calculating Q1 and Q3. Here since there were \n",
    "    two central values we included them.\n",
    "\n",
    "Now, we need to calculate the Inter Quartile Range.\n",
    "\n",
    "IQR = Q3-Q1 = 145-110 = 35"
   ]
  },
  {
   "cell_type": "code",
   "execution_count": null,
   "id": "6b06022d",
   "metadata": {},
   "outputs": [],
   "source": [
    "We can now calculate the Upper and Lower Limits to find the minimum and maximum values and also the outliers if any.\n",
    "\n",
    "Lower Limit = Q1-1.5*IQR = 110-1.5*35 = 57.5\n",
    "Upper Limit = Q3+1.5*IQR = 145+1.5*35 = 197.5\n",
    "\n",
    "So the minimum and maximum between the range [57.5,197.5] for our given data are – \n",
    "\n",
    "Minimum = 100\n",
    "Maximum = 170\n",
    "The outliers which are outside this range are – \n",
    "\n",
    "Outliers = 220\n",
    "Now we have all the information, so we can draw the box plot which is as below-"
   ]
  },
  {
   "cell_type": "code",
   "execution_count": null,
   "id": "b016014a",
   "metadata": {},
   "outputs": [],
   "source": [
    "\n",
    "                Lower Quartile      Median         Upper Quartile\n",
    "                    Q1=110          Q2=125              Q3=145\n",
    "\n",
    "                        |-------------|-------------------|\n",
    " Min=100                |             |                   |                  Max=170\n",
    "  |                     |             |                   |                     |\n",
    "  |---------------------|             |                   |---------------------|\n",
    "  |                     |             |                   |                     |\n",
    "                        |             |                   |\n",
    "                        |-------------|-------------------|\n",
    "                                     BOX\n",
    "                \n",
    "                        <------------------------------------->\n",
    "                              Inter Quartile Ranger (IQR)\n",
    "                        \n",
    "                        \n",
    "            We can see from the diagram that the Median is not exactly at the centre of the box and one whisker is longer\n",
    "            than the other. We also have one Outlier.\n",
    "            "
   ]
  },
  {
   "cell_type": "markdown",
   "id": "a744a9a7",
   "metadata": {},
   "source": [
    "## 3) Uses of a Box Plot"
   ]
  },
  {
   "cell_type": "code",
   "execution_count": null,
   "id": "9161b831",
   "metadata": {},
   "outputs": [],
   "source": [
    "=> Box plots provide a visual summary of the data with which we can quickly identify the average value of the data, \n",
    "   how dispersed the data is, whether the data is skewed or not (skewness).\n",
    "=> The Median gives you the average value of the data.\n",
    "=> Box Plots shows Skewness of the data-"
   ]
  },
  {
   "cell_type": "code",
   "execution_count": null,
   "id": "bede661c",
   "metadata": {},
   "outputs": [],
   "source": [
    "a) If the Median is at the center of the Box and the whiskers are almost the \n",
    "   same on both the ends then the data is Normally Distributed.\n",
    "b) If the Median lies closer to the First Quartile and if the whisker at the lower\n",
    "   end is shorter (as in the above example) then it has a Positive Skew (Right Skew).\n",
    "c) If the Median lies closer to the Third Quartile and if the whisker at the\n",
    "   upper end is shorter then it has a Negative Skew (Left Skew)."
   ]
  },
  {
   "cell_type": "code",
   "execution_count": null,
   "id": "2410d076",
   "metadata": {},
   "outputs": [],
   "source": [
    "                                NORMAL DISTRIBUTION\n",
    "                        |------------------|-------------------|\n",
    "                        |                  |                   |                  \n",
    "  |                     |                  |                   |                     |\n",
    "  |---------------------|                  |                   |---------------------|\n",
    "  |                     |                  |                   |                     |\n",
    "                        |                  |                   |\n",
    "                        |------------------|-------------------|\n",
    "                                     \n",
    "            \n",
    "            \n",
    "            \n",
    "                                  POSITIVE SKEW\n",
    "                        |-----------|-------------------|\n",
    "                        |           |                   |                  \n",
    "           |            |           |                   |                     |\n",
    "           |------------|           |                   |---------------------|\n",
    "           |            |           |                   |                     |\n",
    "                        |           |                   |\n",
    "                        |-----------|-------------------|\n",
    "                                     \n",
    "            \n",
    "            \n",
    "              \n",
    "                                   NEGATIVE SKEW\n",
    "                        |----------------------|------------|\n",
    "                        |                      |            |                  \n",
    "     |                  |                      |            |          |\n",
    "     |------------------|                      |            |----------|\n",
    "     |                  |                      |            |          |\n",
    "                        |                      |            |\n",
    "                        |----------------------|------------|\n",
    "            \n",
    "            \n",
    "            "
   ]
  },
  {
   "cell_type": "code",
   "execution_count": null,
   "id": "4516220d",
   "metadata": {},
   "outputs": [],
   "source": [
    "=> The dispersion or spread of data can be visualized by the minimum and maximum values which are found at the end of \n",
    "   the whiskers.\n",
    "=> The Box plot gives us the idea of about the Outliers which are the points which are numerically distant from the rest of\n",
    "   the data."
   ]
  },
  {
   "cell_type": "markdown",
   "id": "90f92367",
   "metadata": {},
   "source": [
    "### 4) How to compare box plots"
   ]
  },
  {
   "cell_type": "code",
   "execution_count": null,
   "id": "1208c3c5",
   "metadata": {},
   "outputs": [],
   "source": [
    "As we have discussed at the beginning of the article that box plots make comparing characteristics of data between categories very easy. Let us have a look at how we can compare different box plots and derive statistical conclusions from them.\n",
    "\n",
    "Let us take the below two plots as an example:-\n"
   ]
  },
  {
   "cell_type": "code",
   "execution_count": null,
   "id": "f930d9b3",
   "metadata": {},
   "outputs": [],
   "source": [
    "|---                                \n",
    "|  \n",
    "|    \n",
    "|--- \n",
    "|   \n",
    "|   \n",
    "|---  \n",
    "|   \n",
    "|   \n",
    "|---                               -------                                     ---------\n",
    "|                                     |                                            |\n",
    "|                                     |                                            |\n",
    "|---                                  |                                            |\n",
    "|                                     |                                    ---------------- \n",
    "|                                     |                                    |              |\n",
    "|---                                  |                                    |              |\n",
    "|                            --------------------                          |--------------|\n",
    "|                            |                  |                          |              |\n",
    "|---                         |                  |                          |              |\n",
    "|                            |                  |                          |              |\n",
    "|                            |                  |                          |              |\n",
    "|---                         |                  |                          |              |\n",
    "|                            |                  |                          |              |\n",
    "|                            |                  |                          ---------------- \n",
    "|---                         |                  |                                  |\n",
    "|                            |------------------|                                  |\n",
    "|                            |                  |                                  |\n",
    "|---                         |                  |                                  |\n",
    "|                            |                  |                                  |\n",
    "|                            |                  |                             -----------\n",
    "|---                         |                  |                                Plot B\n",
    "|                            -------------------\n",
    "|                                     |\n",
    "|---                                  |\n",
    "|                                     |\n",
    "|                                     |\n",
    "|---                                  |\n",
    "|                                 ----------\n",
    "|                                   Plot A\n",
    "|---                           \n",
    "|                           \n",
    "|                           \n",
    "|---                          \n",
    "|                           \n",
    "|                           \n",
    "|---\n",
    "----------------------------------------------------------------------------------------------------------------------------"
   ]
  },
  {
   "cell_type": "code",
   "execution_count": null,
   "id": "d84cb4ca",
   "metadata": {},
   "outputs": [],
   "source": [
    "=> Compare the Medians — If the median line of a box plot lies outside the box of the other box plot with which it is being\n",
    "   compared, then we can say that there is likely to be a difference between the two groups. Here the Median line of the\n",
    "   plot B lies outside the box of Plot A.\n",
    "=> Compare the Dispersion or Spread of data — The Inter Quartile range (length of the box) gives us an idea about how\n",
    "   dispersed the data is. Here Plot A has a longer length than Plot B which means that the dispersion of data is more in\n",
    "   plot A as compared to plot B. The length of whiskers also gives an idea of the overall spread of data. The extreme values\n",
    "   (minimum &maximum) gives the range of data distribution. Larger the range more scattered the data. Here Plot A has a \n",
    "   larger range than Plot B.\n",
    "=> Comparing Outliers — The outliers gives the idea of unusual data values which are distant from the rest of the data. More\n",
    "   number of Outliers means the prediction will be more uncertain. We can be more confident while predicting the values for \n",
    "   a plot which has less or no outliers.\n",
    "=> Compare Skewness — Skewness gives us the direction and the magnitude of the lack of symmetry. We have discussed above\n",
    "   how to identify skewness. Here Plot A is Positive or Right Skewed and Plot B is Negative or Left Skewed."
   ]
  },
  {
   "cell_type": "code",
   "execution_count": null,
   "id": "2e97601c",
   "metadata": {},
   "outputs": [],
   "source": []
  }
 ],
 "metadata": {
  "kernelspec": {
   "display_name": "Python 3 (ipykernel)",
   "language": "python",
   "name": "python3"
  },
  "language_info": {
   "codemirror_mode": {
    "name": "ipython",
    "version": 3
   },
   "file_extension": ".py",
   "mimetype": "text/x-python",
   "name": "python",
   "nbconvert_exporter": "python",
   "pygments_lexer": "ipython3",
   "version": "3.9.13"
  }
 },
 "nbformat": 4,
 "nbformat_minor": 5
}
