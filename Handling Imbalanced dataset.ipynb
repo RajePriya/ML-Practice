{
 "cells": [
  {
   "cell_type": "markdown",
   "id": "efce96fa",
   "metadata": {},
   "source": [
    "## Handling Imbalanced Data Set"
   ]
  },
  {
   "cell_type": "markdown",
   "id": "6ed7272f",
   "metadata": {},
   "source": [
    "### 1. Up sampling     2. Down sampling"
   ]
  },
  {
   "cell_type": "code",
   "execution_count": 3,
   "id": "cd604930",
   "metadata": {},
   "outputs": [],
   "source": [
    "import numpy as np\n",
    "import pandas as pd\n",
    "\n",
    "# Set the random seed for reproducibility\n",
    "np.random.seed(123)\n",
    "\n",
    "# Create a dataframe with two classes\n",
    "n_samples = 1000\n",
    "class_0_ratio = 0.9\n",
    "n_class_0 = int(n_samples * class_0_ratio)\n",
    "n_class_1 = n_samples - n_class_0"
   ]
  },
  {
   "cell_type": "code",
   "execution_count": 4,
   "id": "f2591052",
   "metadata": {},
   "outputs": [
    {
     "data": {
      "text/plain": [
       "(900, 100)"
      ]
     },
     "execution_count": 4,
     "metadata": {},
     "output_type": "execute_result"
    }
   ],
   "source": [
    "n_class_0,n_class_1"
   ]
  },
  {
   "cell_type": "code",
   "execution_count": 5,
   "id": "22d0b335",
   "metadata": {},
   "outputs": [],
   "source": [
    "## CREATE MY DATAFRAME WITH IMBALANCED DATASET\n",
    "class_0 = pd.DataFrame({\n",
    "    'feature_1': np.random.normal(loc=0,scale=1, size=n_class_0),\n",
    "    'feature_2': np.random.normal(loc=0,scale=1, size=n_class_0),\n",
    "    'target': [0] * n_class_0\n",
    "})\n",
    "\n",
    "class_1 = pd.DataFrame({\n",
    "    'feature_1': np.random.normal(loc=2,scale=1, size=n_class_1),\n",
    "    'feature_2': np.random.normal(loc=2,scale=1, size=n_class_1),\n",
    "    'target': [1] * n_class_1\n",
    "})"
   ]
  },
  {
   "cell_type": "code",
   "execution_count": 8,
   "id": "1de38b5e",
   "metadata": {},
   "outputs": [],
   "source": [
    "df=pd.concat([class_0,class_1]).reset_index(drop=True)"
   ]
  },
  {
   "cell_type": "code",
   "execution_count": 9,
   "id": "98236b0d",
   "metadata": {},
   "outputs": [
    {
     "data": {
      "text/html": [
       "<div>\n",
       "<style scoped>\n",
       "    .dataframe tbody tr th:only-of-type {\n",
       "        vertical-align: middle;\n",
       "    }\n",
       "\n",
       "    .dataframe tbody tr th {\n",
       "        vertical-align: top;\n",
       "    }\n",
       "\n",
       "    .dataframe thead th {\n",
       "        text-align: right;\n",
       "    }\n",
       "</style>\n",
       "<table border=\"1\" class=\"dataframe\">\n",
       "  <thead>\n",
       "    <tr style=\"text-align: right;\">\n",
       "      <th></th>\n",
       "      <th>feature_1</th>\n",
       "      <th>feature_2</th>\n",
       "      <th>target</th>\n",
       "    </tr>\n",
       "  </thead>\n",
       "  <tbody>\n",
       "    <tr>\n",
       "      <th>0</th>\n",
       "      <td>-1.085631</td>\n",
       "      <td>0.551302</td>\n",
       "      <td>0</td>\n",
       "    </tr>\n",
       "    <tr>\n",
       "      <th>1</th>\n",
       "      <td>0.997345</td>\n",
       "      <td>0.419589</td>\n",
       "      <td>0</td>\n",
       "    </tr>\n",
       "    <tr>\n",
       "      <th>2</th>\n",
       "      <td>0.282978</td>\n",
       "      <td>1.815652</td>\n",
       "      <td>0</td>\n",
       "    </tr>\n",
       "    <tr>\n",
       "      <th>3</th>\n",
       "      <td>-1.506295</td>\n",
       "      <td>-0.252750</td>\n",
       "      <td>0</td>\n",
       "    </tr>\n",
       "    <tr>\n",
       "      <th>4</th>\n",
       "      <td>-0.578600</td>\n",
       "      <td>-0.292004</td>\n",
       "      <td>0</td>\n",
       "    </tr>\n",
       "  </tbody>\n",
       "</table>\n",
       "</div>"
      ],
      "text/plain": [
       "   feature_1  feature_2  target\n",
       "0  -1.085631   0.551302       0\n",
       "1   0.997345   0.419589       0\n",
       "2   0.282978   1.815652       0\n",
       "3  -1.506295  -0.252750       0\n",
       "4  -0.578600  -0.292004       0"
      ]
     },
     "execution_count": 9,
     "metadata": {},
     "output_type": "execute_result"
    }
   ],
   "source": [
    "df.head()"
   ]
  },
  {
   "cell_type": "code",
   "execution_count": 10,
   "id": "db0f2551",
   "metadata": {},
   "outputs": [
    {
     "data": {
      "text/html": [
       "<div>\n",
       "<style scoped>\n",
       "    .dataframe tbody tr th:only-of-type {\n",
       "        vertical-align: middle;\n",
       "    }\n",
       "\n",
       "    .dataframe tbody tr th {\n",
       "        vertical-align: top;\n",
       "    }\n",
       "\n",
       "    .dataframe thead th {\n",
       "        text-align: right;\n",
       "    }\n",
       "</style>\n",
       "<table border=\"1\" class=\"dataframe\">\n",
       "  <thead>\n",
       "    <tr style=\"text-align: right;\">\n",
       "      <th></th>\n",
       "      <th>feature_1</th>\n",
       "      <th>feature_2</th>\n",
       "      <th>target</th>\n",
       "    </tr>\n",
       "  </thead>\n",
       "  <tbody>\n",
       "    <tr>\n",
       "      <th>995</th>\n",
       "      <td>1.376371</td>\n",
       "      <td>2.845701</td>\n",
       "      <td>1</td>\n",
       "    </tr>\n",
       "    <tr>\n",
       "      <th>996</th>\n",
       "      <td>2.239810</td>\n",
       "      <td>0.880077</td>\n",
       "      <td>1</td>\n",
       "    </tr>\n",
       "    <tr>\n",
       "      <th>997</th>\n",
       "      <td>1.131760</td>\n",
       "      <td>1.640703</td>\n",
       "      <td>1</td>\n",
       "    </tr>\n",
       "    <tr>\n",
       "      <th>998</th>\n",
       "      <td>2.902006</td>\n",
       "      <td>0.390305</td>\n",
       "      <td>1</td>\n",
       "    </tr>\n",
       "    <tr>\n",
       "      <th>999</th>\n",
       "      <td>2.697490</td>\n",
       "      <td>2.013570</td>\n",
       "      <td>1</td>\n",
       "    </tr>\n",
       "  </tbody>\n",
       "</table>\n",
       "</div>"
      ],
      "text/plain": [
       "     feature_1  feature_2  target\n",
       "995   1.376371   2.845701       1\n",
       "996   2.239810   0.880077       1\n",
       "997   1.131760   1.640703       1\n",
       "998   2.902006   0.390305       1\n",
       "999   2.697490   2.013570       1"
      ]
     },
     "execution_count": 10,
     "metadata": {},
     "output_type": "execute_result"
    }
   ],
   "source": [
    "df.tail()"
   ]
  },
  {
   "cell_type": "code",
   "execution_count": 11,
   "id": "aca6b798",
   "metadata": {},
   "outputs": [
    {
     "data": {
      "text/plain": [
       "0    900\n",
       "1    100\n",
       "Name: target, dtype: int64"
      ]
     },
     "execution_count": 11,
     "metadata": {},
     "output_type": "execute_result"
    }
   ],
   "source": [
    "df['target'].value_counts()"
   ]
  },
  {
   "cell_type": "code",
   "execution_count": 12,
   "id": "2c74a7b1",
   "metadata": {},
   "outputs": [],
   "source": [
    "## Upsampling\n",
    "df_minority=df[df['target']==1]\n",
    "df_majority=df[df['target']==0]"
   ]
  },
  {
   "cell_type": "code",
   "execution_count": 17,
   "id": "e45b11ac",
   "metadata": {},
   "outputs": [],
   "source": [
    "from sklearn.utils import resample\n",
    "df_minority_upsampled=resample(df_minority,replace=True,   #sample withe replacement\n",
    "                        n_samples=len(df_majority),\n",
    "                        random_state=42\n",
    "                        )"
   ]
  },
  {
   "cell_type": "code",
   "execution_count": 18,
   "id": "b6bc9c97",
   "metadata": {},
   "outputs": [
    {
     "data": {
      "text/plain": [
       "(900, 3)"
      ]
     },
     "execution_count": 18,
     "metadata": {},
     "output_type": "execute_result"
    }
   ],
   "source": [
    "df_minority_upsampled.shape"
   ]
  },
  {
   "cell_type": "code",
   "execution_count": 19,
   "id": "555ff676",
   "metadata": {},
   "outputs": [
    {
     "data": {
      "text/html": [
       "<div>\n",
       "<style scoped>\n",
       "    .dataframe tbody tr th:only-of-type {\n",
       "        vertical-align: middle;\n",
       "    }\n",
       "\n",
       "    .dataframe tbody tr th {\n",
       "        vertical-align: top;\n",
       "    }\n",
       "\n",
       "    .dataframe thead th {\n",
       "        text-align: right;\n",
       "    }\n",
       "</style>\n",
       "<table border=\"1\" class=\"dataframe\">\n",
       "  <thead>\n",
       "    <tr style=\"text-align: right;\">\n",
       "      <th></th>\n",
       "      <th>feature_1</th>\n",
       "      <th>feature_2</th>\n",
       "      <th>target</th>\n",
       "    </tr>\n",
       "  </thead>\n",
       "  <tbody>\n",
       "    <tr>\n",
       "      <th>951</th>\n",
       "      <td>1.125854</td>\n",
       "      <td>1.843917</td>\n",
       "      <td>1</td>\n",
       "    </tr>\n",
       "    <tr>\n",
       "      <th>992</th>\n",
       "      <td>2.196570</td>\n",
       "      <td>1.397425</td>\n",
       "      <td>1</td>\n",
       "    </tr>\n",
       "    <tr>\n",
       "      <th>914</th>\n",
       "      <td>1.932170</td>\n",
       "      <td>2.998053</td>\n",
       "      <td>1</td>\n",
       "    </tr>\n",
       "    <tr>\n",
       "      <th>971</th>\n",
       "      <td>2.272825</td>\n",
       "      <td>3.034197</td>\n",
       "      <td>1</td>\n",
       "    </tr>\n",
       "    <tr>\n",
       "      <th>960</th>\n",
       "      <td>2.870056</td>\n",
       "      <td>1.550485</td>\n",
       "      <td>1</td>\n",
       "    </tr>\n",
       "  </tbody>\n",
       "</table>\n",
       "</div>"
      ],
      "text/plain": [
       "     feature_1  feature_2  target\n",
       "951   1.125854   1.843917       1\n",
       "992   2.196570   1.397425       1\n",
       "914   1.932170   2.998053       1\n",
       "971   2.272825   3.034197       1\n",
       "960   2.870056   1.550485       1"
      ]
     },
     "execution_count": 19,
     "metadata": {},
     "output_type": "execute_result"
    }
   ],
   "source": [
    "df_minority_upsampled.head()"
   ]
  },
  {
   "cell_type": "code",
   "execution_count": 22,
   "id": "e61a0fc9",
   "metadata": {},
   "outputs": [],
   "source": [
    "df_upsampled=pd.concat([df_majority,df_minority_upsampled])"
   ]
  },
  {
   "cell_type": "code",
   "execution_count": 25,
   "id": "bb35ac2c",
   "metadata": {},
   "outputs": [
    {
     "data": {
      "text/plain": [
       "0    900\n",
       "1    900\n",
       "Name: target, dtype: int64"
      ]
     },
     "execution_count": 25,
     "metadata": {},
     "output_type": "execute_result"
    }
   ],
   "source": [
    "df_upsampled['target'].value_counts()"
   ]
  },
  {
   "cell_type": "code",
   "execution_count": null,
   "id": "5e387b21",
   "metadata": {},
   "outputs": [],
   "source": [
    "# Down SamplingS"
   ]
  },
  {
   "cell_type": "code",
   "execution_count": 26,
   "id": "933d636a",
   "metadata": {},
   "outputs": [
    {
     "name": "stdout",
     "output_type": "stream",
     "text": [
      "0    900\n",
      "1    100\n",
      "Name: target, dtype: int64\n"
     ]
    }
   ],
   "source": [
    "class_0 = pd.DataFrame({\n",
    "    'feature_1': np.random.normal(loc=0,scale=1, size=n_class_0),\n",
    "    'feature_2': np.random.normal(loc=0,scale=1, size=n_class_0),\n",
    "    'target': [0] * n_class_0\n",
    "})\n",
    "\n",
    "class_1 = pd.DataFrame({\n",
    "    'feature_1': np.random.normal(loc=2,scale=1, size=n_class_1),\n",
    "    'feature_2': np.random.normal(loc=2,scale=1, size=n_class_1),\n",
    "    'target': [1] * n_class_1\n",
    "})\n",
    "\n",
    "df=pd.concat([class_0,class_1]).reset_index(drop=True)\n",
    "\n",
    "# Check the class distribution\n",
    "print(df['target'].value_counts())"
   ]
  },
  {
   "cell_type": "code",
   "execution_count": 27,
   "id": "c9115145",
   "metadata": {},
   "outputs": [],
   "source": [
    "## Downsampling\n",
    "df_minority=df[df['target']==1]\n",
    "df_majority=df[df['target']==0]"
   ]
  },
  {
   "cell_type": "code",
   "execution_count": 28,
   "id": "15ec2b34",
   "metadata": {},
   "outputs": [],
   "source": [
    "from sklearn.utils import resample\n",
    "df_majority_downsampled=resample(df_majority,replace=False,\n",
    "                        n_samples=len(df_minority),\n",
    "                        random_state=42\n",
    "                        )"
   ]
  },
  {
   "cell_type": "code",
   "execution_count": 29,
   "id": "1367bea8",
   "metadata": {},
   "outputs": [
    {
     "data": {
      "text/plain": [
       "(100, 3)"
      ]
     },
     "execution_count": 29,
     "metadata": {},
     "output_type": "execute_result"
    }
   ],
   "source": [
    "df_majority_downsampled.shape"
   ]
  },
  {
   "cell_type": "code",
   "execution_count": 30,
   "id": "6cee1fc0",
   "metadata": {},
   "outputs": [],
   "source": [
    "df_downsampled=pd.concat([df_minority,df_majority_downsampled])"
   ]
  },
  {
   "cell_type": "code",
   "execution_count": 31,
   "id": "420977af",
   "metadata": {},
   "outputs": [
    {
     "data": {
      "text/plain": [
       "1    100\n",
       "0    100\n",
       "Name: target, dtype: int64"
      ]
     },
     "execution_count": 31,
     "metadata": {},
     "output_type": "execute_result"
    }
   ],
   "source": [
    "df_downsampled.target.value_counts()"
   ]
  },
  {
   "cell_type": "markdown",
   "id": "c4fcb483",
   "metadata": {},
   "source": [
    "# Imbalanced Data"
   ]
  },
  {
   "cell_type": "code",
   "execution_count": null,
   "id": "a60c78b3",
   "metadata": {},
   "outputs": [],
   "source": [
    "A classification data set with skewed class proportions is called imbalanced. Classes that make up a large proportion of the\n",
    "data set are called majority classes. Those that make up a smaller proportion are minority classes.\n",
    "\n",
    "What counts as imbalanced? The answer could range from mild to extreme, as the table below shows."
   ]
  },
  {
   "cell_type": "code",
   "execution_count": null,
   "id": "77b3e718",
   "metadata": {},
   "outputs": [],
   "source": [
    "Degree of Imbalance               proportion of minority class\n",
    "    \n",
    "    Mild                            20-40% of the data set\n",
    "    Moderate                         1-20% of the data set\n",
    "    Exreme                            <1% of the data set"
   ]
  },
  {
   "cell_type": "code",
   "execution_count": null,
   "id": "76aa0922",
   "metadata": {},
   "outputs": [],
   "source": [
    "Why look out for imbalanced data? You may need to apply a particular sampling technique if you have a classification task\n",
    "with an imbalanced data set.\n",
    "\n",
    "Consider the following example of a model that detects fraud. Instances of fraud happen once per 200 transactions in this\n",
    "data set, so in the true distribution, about 0.5% of the data is positive.\n",
    "Why would this be problematic? With so few positives relative to negatives, the training model will spend most of its time\n",
    "on negative examples and not learn enough from positive ones. For example, if your batch size is 128, many batches will have\n",
    "no positive examples, so the gradients will be less informative.\n",
    "\n",
    "If you have an imbalanced data set, first try training on the true distribution. If the model works well and generalizes,\n",
    "you're done! If not, try the following downsampling and upweighting technique.\n",
    "\n"
   ]
  },
  {
   "cell_type": "markdown",
   "id": "7b6ff12d",
   "metadata": {},
   "source": [
    "# Downsampling"
   ]
  },
  {
   "cell_type": "code",
   "execution_count": null,
   "id": "170a197c",
   "metadata": {},
   "outputs": [],
   "source": [
    "Downsampling (in this context) means training on a disproportionately low subset of the majority class examples."
   ]
  },
  {
   "cell_type": "markdown",
   "id": "ef361a84",
   "metadata": {},
   "source": [
    "# Upsampling"
   ]
  },
  {
   "cell_type": "code",
   "execution_count": null,
   "id": "b1a6a14f",
   "metadata": {},
   "outputs": [],
   "source": [
    "Upsampling means adding an example weight to the downsampled class equal to the factor by which you downsampled."
   ]
  },
  {
   "cell_type": "code",
   "execution_count": null,
   "id": "4d9434bf",
   "metadata": {},
   "outputs": [],
   "source": [
    "Step 1: Downsample the majority class. Consider again our example of the fraud data set, with 1 positive to 200 negatives. \n",
    "    Downsampling by a factor of 20 improves the balance to 1 positive to 10 negatives (10%). Although the resulting \n",
    "    training set is still moderately imbalanced, the proportion of positives to negatives is much better than the original\n",
    "    extremely imbalanced proportion (0.5%)."
   ]
  },
  {
   "cell_type": "code",
   "execution_count": null,
   "id": "6f1bff2a",
   "metadata": {},
   "outputs": [],
   "source": [
    "Step 2: Upweight the downsampled class: The last step is to add example weights to the downsampled class. Since we \n",
    "        downsampled by a factor of 20, the example weight should be 20."
   ]
  },
  {
   "cell_type": "code",
   "execution_count": null,
   "id": "b191cdaf",
   "metadata": {},
   "outputs": [],
   "source": [
    "You may be used to hearing the term weight when it refers to model parameters, like connections in a neural network. \n",
    "Here we're talking about example weights, which means counting an individual example more importantly during training.\n",
    "An example weight of 10 means the model treats the example as 10 times as important (when computing loss) as it would an\n",
    "example of weight 1.\n",
    "\n",
    "The weight should be equal to the factor you used to downsample:\n",
    "\n",
    "    {example weight} = {orginal example weight} * {downsampling factor}"
   ]
  },
  {
   "cell_type": "code",
   "execution_count": null,
   "id": "9c9fccaf",
   "metadata": {},
   "outputs": [],
   "source": [
    "Why Downsample and Upweight?\n",
    "It may seem odd to add example weights after downsampling. We were trying to make our model improve on the minority\n",
    "class -- why would we upweight the majority? These are the resulting changes:"
   ]
  },
  {
   "cell_type": "code",
   "execution_count": null,
   "id": "e85dfa57",
   "metadata": {},
   "outputs": [],
   "source": [
    "=> Faster convergence: During training, we see the minority class more often, which will help the model converge faster.\n",
    "=> Disk space: By consolidating the majority class into fewer examples with larger weights, we spend less disk space storing\n",
    "    them. This savings allows more disk space for the minority class, so we can collect a greater number and a wider range\n",
    "    of examples from that class.\n",
    "=> Calibration: Upweighting ensures our model is still calibrated; the outputs can still be interpreted as probabilities."
   ]
  },
  {
   "cell_type": "code",
   "execution_count": null,
   "id": "62136d67",
   "metadata": {},
   "outputs": [],
   "source": []
  }
 ],
 "metadata": {
  "kernelspec": {
   "display_name": "Python 3 (ipykernel)",
   "language": "python",
   "name": "python3"
  },
  "language_info": {
   "codemirror_mode": {
    "name": "ipython",
    "version": 3
   },
   "file_extension": ".py",
   "mimetype": "text/x-python",
   "name": "python",
   "nbconvert_exporter": "python",
   "pygments_lexer": "ipython3",
   "version": "3.9.13"
  }
 },
 "nbformat": 4,
 "nbformat_minor": 5
}
